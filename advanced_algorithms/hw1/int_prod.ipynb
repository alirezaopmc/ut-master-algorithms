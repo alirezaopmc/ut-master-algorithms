{
 "cells": [
  {
   "cell_type": "code",
   "execution_count": 13,
   "metadata": {},
   "outputs": [],
   "source": [
    "import utils as u\n",
    "import plotly.graph_objects as go\n",
    "import pandas as pd"
   ]
  },
  {
   "cell_type": "code",
   "execution_count": 14,
   "metadata": {},
   "outputs": [],
   "source": [
    "X = 12345\n",
    "Y = 6789"
   ]
  },
  {
   "cell_type": "code",
   "execution_count": 15,
   "metadata": {},
   "outputs": [],
   "source": [
    "def naive_mult(x: int, y: int):\n",
    "    x, y = min(x, y), max(x, y)\n",
    "    result = 0\n",
    "    for _ in range(x):\n",
    "        result += y\n",
    "    return result\n",
    "\n",
    "\n",
    "@u.timed\n",
    "def naive_mult_timed(x: int, y: int):\n",
    "    return naive_mult(x, y)"
   ]
  },
  {
   "cell_type": "code",
   "execution_count": 16,
   "metadata": {},
   "outputs": [
    {
     "name": "stdout",
     "output_type": "stream",
     "text": [
      "Elapsed time: 319000.0000 nanoseconds\n"
     ]
    },
    {
     "data": {
      "text/plain": [
       "83810205"
      ]
     },
     "execution_count": 16,
     "metadata": {},
     "output_type": "execute_result"
    }
   ],
   "source": [
    "naive_mult_timed(X, Y)"
   ]
  },
  {
   "cell_type": "code",
   "execution_count": 17,
   "metadata": {},
   "outputs": [],
   "source": [
    "def karatsuba_mult(x: int, y: int):\n",
    "    # Base case for recursion: when num1 or num2 are small enough\n",
    "    if x < 10 or y < 10:\n",
    "        return x * y\n",
    "\n",
    "    # Calculate the size of the numbers\n",
    "    m = max(len(str(x)), len(str(y))) // 2\n",
    "\n",
    "    # Split the numbers\n",
    "    high1 = x // 10**m\n",
    "    low1 = x % 10**m\n",
    "    high2 = y // 10**m\n",
    "    low2 = y % 10**m\n",
    "\n",
    "    # Recursive steps\n",
    "    z0 = karatsuba_mult(low1, low2)\n",
    "    z1 = karatsuba_mult(low1 + high1, low2 + high2)\n",
    "    z2 = karatsuba_mult(high1, high2)\n",
    "\n",
    "    # Karatsuba formula\n",
    "    return (z2 * 10 ** (m * 2)) + ((z1 - z2 - z0) * 10**m) + z0\n",
    "\n",
    "\n",
    "@u.timed\n",
    "def karatsuba__mult_timed(x: int, y: int):\n",
    "    return karatsuba_mult(x, y)"
   ]
  },
  {
   "cell_type": "code",
   "execution_count": 18,
   "metadata": {},
   "outputs": [
    {
     "name": "stdout",
     "output_type": "stream",
     "text": [
      "Elapsed time: 17000.0000 nanoseconds\n"
     ]
    },
    {
     "data": {
      "text/plain": [
       "83810205"
      ]
     },
     "execution_count": 18,
     "metadata": {},
     "output_type": "execute_result"
    }
   ],
   "source": [
    "karatsuba__mult_timed(X, Y)"
   ]
  },
  {
   "cell_type": "code",
   "execution_count": 19,
   "metadata": {},
   "outputs": [],
   "source": [
    "pairs_count = 100\n",
    "min_int = 100000\n",
    "max_int = 200000\n",
    "\n",
    "pairs = u.generate_sorted_number_pairs(pairs_count, min_int, max_int)\n",
    "naive_times = u.sample_int_mult_algorithm(naive_mult, pairs)\n",
    "karatsuba_times = u.sample_int_mult_algorithm(karatsuba_mult, pairs)"
   ]
  },
  {
   "cell_type": "code",
   "execution_count": 29,
   "metadata": {},
   "outputs": [
    {
     "data": {
      "text/html": [
       "<div>\n",
       "<style scoped>\n",
       "    .dataframe tbody tr th:only-of-type {\n",
       "        vertical-align: middle;\n",
       "    }\n",
       "\n",
       "    .dataframe tbody tr th {\n",
       "        vertical-align: top;\n",
       "    }\n",
       "\n",
       "    .dataframe thead th {\n",
       "        text-align: right;\n",
       "    }\n",
       "</style>\n",
       "<table border=\"1\" class=\"dataframe\">\n",
       "  <thead>\n",
       "    <tr style=\"text-align: right;\">\n",
       "      <th></th>\n",
       "      <th>x</th>\n",
       "      <th>y</th>\n",
       "      <th>naive (ns)</th>\n",
       "      <th>karatsuba (ns)</th>\n",
       "    </tr>\n",
       "  </thead>\n",
       "  <tbody>\n",
       "    <tr>\n",
       "      <th>0</th>\n",
       "      <td>100081</td>\n",
       "      <td>102134</td>\n",
       "      <td>5921000</td>\n",
       "      <td>18000</td>\n",
       "    </tr>\n",
       "    <tr>\n",
       "      <th>1</th>\n",
       "      <td>104257</td>\n",
       "      <td>119729</td>\n",
       "      <td>5247000</td>\n",
       "      <td>9000</td>\n",
       "    </tr>\n",
       "    <tr>\n",
       "      <th>2</th>\n",
       "      <td>117941</td>\n",
       "      <td>129585</td>\n",
       "      <td>5143000</td>\n",
       "      <td>9000</td>\n",
       "    </tr>\n",
       "    <tr>\n",
       "      <th>3</th>\n",
       "      <td>127446</td>\n",
       "      <td>136719</td>\n",
       "      <td>5673000</td>\n",
       "      <td>11000</td>\n",
       "    </tr>\n",
       "    <tr>\n",
       "      <th>4</th>\n",
       "      <td>139437</td>\n",
       "      <td>147146</td>\n",
       "      <td>6100000</td>\n",
       "      <td>9000</td>\n",
       "    </tr>\n",
       "    <tr>\n",
       "      <th>5</th>\n",
       "      <td>150208</td>\n",
       "      <td>158979</td>\n",
       "      <td>6626000</td>\n",
       "      <td>9000</td>\n",
       "    </tr>\n",
       "    <tr>\n",
       "      <th>6</th>\n",
       "      <td>161603</td>\n",
       "      <td>165935</td>\n",
       "      <td>7163000</td>\n",
       "      <td>7000</td>\n",
       "    </tr>\n",
       "    <tr>\n",
       "      <th>7</th>\n",
       "      <td>166986</td>\n",
       "      <td>175760</td>\n",
       "      <td>7292000</td>\n",
       "      <td>10000</td>\n",
       "    </tr>\n",
       "    <tr>\n",
       "      <th>8</th>\n",
       "      <td>178711</td>\n",
       "      <td>182384</td>\n",
       "      <td>7994000</td>\n",
       "      <td>9000</td>\n",
       "    </tr>\n",
       "    <tr>\n",
       "      <th>9</th>\n",
       "      <td>187997</td>\n",
       "      <td>192370</td>\n",
       "      <td>8415000</td>\n",
       "      <td>10000</td>\n",
       "    </tr>\n",
       "  </tbody>\n",
       "</table>\n",
       "</div>"
      ],
      "text/plain": [
       "        x       y  naive (ns)  karatsuba (ns)\n",
       "0  100081  102134     5921000           18000\n",
       "1  104257  119729     5247000            9000\n",
       "2  117941  129585     5143000            9000\n",
       "3  127446  136719     5673000           11000\n",
       "4  139437  147146     6100000            9000\n",
       "5  150208  158979     6626000            9000\n",
       "6  161603  165935     7163000            7000\n",
       "7  166986  175760     7292000           10000\n",
       "8  178711  182384     7994000            9000\n",
       "9  187997  192370     8415000           10000"
      ]
     },
     "execution_count": 29,
     "metadata": {},
     "output_type": "execute_result"
    }
   ],
   "source": [
    "df = pd.DataFrame(pairs[::10], columns=[\"x\", \"y\"])\n",
    "df[\"naive (ns)\"] = naive_times[::10]\n",
    "df[\"karatsuba (ns)\"] = karatsuba_times[::10]\n",
    "df"
   ]
  },
  {
   "cell_type": "code",
   "execution_count": 9,
   "metadata": {},
   "outputs": [
    {
     "data": {
      "application/vnd.plotly.v1+json": {
       "config": {
        "plotlyServerURL": "https://plot.ly"
       },
       "data": [
        {
         "line": {
          "color": "blue"
         },
         "mode": "lines+markers",
         "name": "Naive Multiplication",
         "type": "scatter",
         "y": [
          5692000,
          4332000,
          4991000,
          5316000,
          4802000,
          4601000,
          4975000,
          4997000,
          4814000,
          4980000,
          4684000,
          4765000,
          5468000,
          5439000,
          5051000,
          4972000,
          5234000,
          4951000,
          5140000,
          5428000,
          5222000,
          5311000,
          5367000,
          5402000,
          5328000,
          5464000,
          5407000,
          5631000,
          5651000,
          5730000,
          5794000,
          5947000,
          5495000,
          5814000,
          5910000,
          5916000,
          5871000,
          5734000,
          5749000,
          5774000,
          6243000,
          6169000,
          6276000,
          6468000,
          6293000,
          6365000,
          5948000,
          6369000,
          7970000,
          7063000,
          6334000,
          6047000,
          6571000,
          6720000,
          6248000,
          6765000,
          6592000,
          6319000,
          6723000,
          6901000,
          6656000,
          6581000,
          7149000,
          6867000,
          7240000,
          7274000,
          7316000,
          7053000,
          7341000,
          7534000,
          7142000,
          7631000,
          7285000,
          7746000,
          7832000,
          7973000,
          8092000,
          7695000,
          7737000,
          7618000,
          8367000,
          8071000,
          7808000,
          7704000,
          8198000,
          7754000,
          8255000,
          8157000,
          8150000,
          7952000,
          7944000,
          8608000,
          8446000,
          8408000,
          8273000,
          8644000,
          8399000,
          9159000,
          9094000,
          8731000
         ]
        },
        {
         "line": {
          "color": "red"
         },
         "mode": "lines+markers",
         "name": "Karatsuba Multiplication",
         "type": "scatter",
         "y": [
          18000,
          16000,
          11000,
          9000,
          12000,
          9000,
          9000,
          10000,
          11000,
          7000,
          8000,
          6000,
          9000,
          11000,
          8000,
          10000,
          9000,
          9000,
          10000,
          8000,
          8000,
          7000,
          9000,
          8000,
          8000,
          8000,
          11000,
          8000,
          10000,
          10000,
          10000,
          8000,
          9000,
          7000,
          6000,
          7000,
          8000,
          8000,
          8000,
          6000,
          9000,
          9000,
          6000,
          8000,
          8000,
          8000,
          10000,
          8000,
          11000,
          8000,
          9000,
          10000,
          8000,
          7000,
          9000,
          9000,
          9000,
          8000,
          10000,
          8000,
          9000,
          7000,
          8000,
          10000,
          6000,
          9000,
          8000,
          8000,
          8000,
          8000,
          8000,
          7000,
          9000,
          8000,
          10000,
          14000,
          10000,
          9000,
          8000,
          8000,
          9000,
          9000,
          9000,
          9000,
          10000,
          7000,
          8000,
          9000,
          9000,
          11000,
          9000,
          10000,
          8000,
          9000,
          9000,
          12000,
          9000,
          9000,
          9000,
          9000
         ]
        }
       ],
       "layout": {
        "showlegend": true,
        "template": {
         "data": {
          "bar": [
           {
            "error_x": {
             "color": "#2a3f5f"
            },
            "error_y": {
             "color": "#2a3f5f"
            },
            "marker": {
             "line": {
              "color": "#E5ECF6",
              "width": 0.5
             },
             "pattern": {
              "fillmode": "overlay",
              "size": 10,
              "solidity": 0.2
             }
            },
            "type": "bar"
           }
          ],
          "barpolar": [
           {
            "marker": {
             "line": {
              "color": "#E5ECF6",
              "width": 0.5
             },
             "pattern": {
              "fillmode": "overlay",
              "size": 10,
              "solidity": 0.2
             }
            },
            "type": "barpolar"
           }
          ],
          "carpet": [
           {
            "aaxis": {
             "endlinecolor": "#2a3f5f",
             "gridcolor": "white",
             "linecolor": "white",
             "minorgridcolor": "white",
             "startlinecolor": "#2a3f5f"
            },
            "baxis": {
             "endlinecolor": "#2a3f5f",
             "gridcolor": "white",
             "linecolor": "white",
             "minorgridcolor": "white",
             "startlinecolor": "#2a3f5f"
            },
            "type": "carpet"
           }
          ],
          "choropleth": [
           {
            "colorbar": {
             "outlinewidth": 0,
             "ticks": ""
            },
            "type": "choropleth"
           }
          ],
          "contour": [
           {
            "colorbar": {
             "outlinewidth": 0,
             "ticks": ""
            },
            "colorscale": [
             [
              0,
              "#0d0887"
             ],
             [
              0.1111111111111111,
              "#46039f"
             ],
             [
              0.2222222222222222,
              "#7201a8"
             ],
             [
              0.3333333333333333,
              "#9c179e"
             ],
             [
              0.4444444444444444,
              "#bd3786"
             ],
             [
              0.5555555555555556,
              "#d8576b"
             ],
             [
              0.6666666666666666,
              "#ed7953"
             ],
             [
              0.7777777777777778,
              "#fb9f3a"
             ],
             [
              0.8888888888888888,
              "#fdca26"
             ],
             [
              1,
              "#f0f921"
             ]
            ],
            "type": "contour"
           }
          ],
          "contourcarpet": [
           {
            "colorbar": {
             "outlinewidth": 0,
             "ticks": ""
            },
            "type": "contourcarpet"
           }
          ],
          "heatmap": [
           {
            "colorbar": {
             "outlinewidth": 0,
             "ticks": ""
            },
            "colorscale": [
             [
              0,
              "#0d0887"
             ],
             [
              0.1111111111111111,
              "#46039f"
             ],
             [
              0.2222222222222222,
              "#7201a8"
             ],
             [
              0.3333333333333333,
              "#9c179e"
             ],
             [
              0.4444444444444444,
              "#bd3786"
             ],
             [
              0.5555555555555556,
              "#d8576b"
             ],
             [
              0.6666666666666666,
              "#ed7953"
             ],
             [
              0.7777777777777778,
              "#fb9f3a"
             ],
             [
              0.8888888888888888,
              "#fdca26"
             ],
             [
              1,
              "#f0f921"
             ]
            ],
            "type": "heatmap"
           }
          ],
          "heatmapgl": [
           {
            "colorbar": {
             "outlinewidth": 0,
             "ticks": ""
            },
            "colorscale": [
             [
              0,
              "#0d0887"
             ],
             [
              0.1111111111111111,
              "#46039f"
             ],
             [
              0.2222222222222222,
              "#7201a8"
             ],
             [
              0.3333333333333333,
              "#9c179e"
             ],
             [
              0.4444444444444444,
              "#bd3786"
             ],
             [
              0.5555555555555556,
              "#d8576b"
             ],
             [
              0.6666666666666666,
              "#ed7953"
             ],
             [
              0.7777777777777778,
              "#fb9f3a"
             ],
             [
              0.8888888888888888,
              "#fdca26"
             ],
             [
              1,
              "#f0f921"
             ]
            ],
            "type": "heatmapgl"
           }
          ],
          "histogram": [
           {
            "marker": {
             "pattern": {
              "fillmode": "overlay",
              "size": 10,
              "solidity": 0.2
             }
            },
            "type": "histogram"
           }
          ],
          "histogram2d": [
           {
            "colorbar": {
             "outlinewidth": 0,
             "ticks": ""
            },
            "colorscale": [
             [
              0,
              "#0d0887"
             ],
             [
              0.1111111111111111,
              "#46039f"
             ],
             [
              0.2222222222222222,
              "#7201a8"
             ],
             [
              0.3333333333333333,
              "#9c179e"
             ],
             [
              0.4444444444444444,
              "#bd3786"
             ],
             [
              0.5555555555555556,
              "#d8576b"
             ],
             [
              0.6666666666666666,
              "#ed7953"
             ],
             [
              0.7777777777777778,
              "#fb9f3a"
             ],
             [
              0.8888888888888888,
              "#fdca26"
             ],
             [
              1,
              "#f0f921"
             ]
            ],
            "type": "histogram2d"
           }
          ],
          "histogram2dcontour": [
           {
            "colorbar": {
             "outlinewidth": 0,
             "ticks": ""
            },
            "colorscale": [
             [
              0,
              "#0d0887"
             ],
             [
              0.1111111111111111,
              "#46039f"
             ],
             [
              0.2222222222222222,
              "#7201a8"
             ],
             [
              0.3333333333333333,
              "#9c179e"
             ],
             [
              0.4444444444444444,
              "#bd3786"
             ],
             [
              0.5555555555555556,
              "#d8576b"
             ],
             [
              0.6666666666666666,
              "#ed7953"
             ],
             [
              0.7777777777777778,
              "#fb9f3a"
             ],
             [
              0.8888888888888888,
              "#fdca26"
             ],
             [
              1,
              "#f0f921"
             ]
            ],
            "type": "histogram2dcontour"
           }
          ],
          "mesh3d": [
           {
            "colorbar": {
             "outlinewidth": 0,
             "ticks": ""
            },
            "type": "mesh3d"
           }
          ],
          "parcoords": [
           {
            "line": {
             "colorbar": {
              "outlinewidth": 0,
              "ticks": ""
             }
            },
            "type": "parcoords"
           }
          ],
          "pie": [
           {
            "automargin": true,
            "type": "pie"
           }
          ],
          "scatter": [
           {
            "fillpattern": {
             "fillmode": "overlay",
             "size": 10,
             "solidity": 0.2
            },
            "type": "scatter"
           }
          ],
          "scatter3d": [
           {
            "line": {
             "colorbar": {
              "outlinewidth": 0,
              "ticks": ""
             }
            },
            "marker": {
             "colorbar": {
              "outlinewidth": 0,
              "ticks": ""
             }
            },
            "type": "scatter3d"
           }
          ],
          "scattercarpet": [
           {
            "marker": {
             "colorbar": {
              "outlinewidth": 0,
              "ticks": ""
             }
            },
            "type": "scattercarpet"
           }
          ],
          "scattergeo": [
           {
            "marker": {
             "colorbar": {
              "outlinewidth": 0,
              "ticks": ""
             }
            },
            "type": "scattergeo"
           }
          ],
          "scattergl": [
           {
            "marker": {
             "colorbar": {
              "outlinewidth": 0,
              "ticks": ""
             }
            },
            "type": "scattergl"
           }
          ],
          "scattermapbox": [
           {
            "marker": {
             "colorbar": {
              "outlinewidth": 0,
              "ticks": ""
             }
            },
            "type": "scattermapbox"
           }
          ],
          "scatterpolar": [
           {
            "marker": {
             "colorbar": {
              "outlinewidth": 0,
              "ticks": ""
             }
            },
            "type": "scatterpolar"
           }
          ],
          "scatterpolargl": [
           {
            "marker": {
             "colorbar": {
              "outlinewidth": 0,
              "ticks": ""
             }
            },
            "type": "scatterpolargl"
           }
          ],
          "scatterternary": [
           {
            "marker": {
             "colorbar": {
              "outlinewidth": 0,
              "ticks": ""
             }
            },
            "type": "scatterternary"
           }
          ],
          "surface": [
           {
            "colorbar": {
             "outlinewidth": 0,
             "ticks": ""
            },
            "colorscale": [
             [
              0,
              "#0d0887"
             ],
             [
              0.1111111111111111,
              "#46039f"
             ],
             [
              0.2222222222222222,
              "#7201a8"
             ],
             [
              0.3333333333333333,
              "#9c179e"
             ],
             [
              0.4444444444444444,
              "#bd3786"
             ],
             [
              0.5555555555555556,
              "#d8576b"
             ],
             [
              0.6666666666666666,
              "#ed7953"
             ],
             [
              0.7777777777777778,
              "#fb9f3a"
             ],
             [
              0.8888888888888888,
              "#fdca26"
             ],
             [
              1,
              "#f0f921"
             ]
            ],
            "type": "surface"
           }
          ],
          "table": [
           {
            "cells": {
             "fill": {
              "color": "#EBF0F8"
             },
             "line": {
              "color": "white"
             }
            },
            "header": {
             "fill": {
              "color": "#C8D4E3"
             },
             "line": {
              "color": "white"
             }
            },
            "type": "table"
           }
          ]
         },
         "layout": {
          "annotationdefaults": {
           "arrowcolor": "#2a3f5f",
           "arrowhead": 0,
           "arrowwidth": 1
          },
          "autotypenumbers": "strict",
          "coloraxis": {
           "colorbar": {
            "outlinewidth": 0,
            "ticks": ""
           }
          },
          "colorscale": {
           "diverging": [
            [
             0,
             "#8e0152"
            ],
            [
             0.1,
             "#c51b7d"
            ],
            [
             0.2,
             "#de77ae"
            ],
            [
             0.3,
             "#f1b6da"
            ],
            [
             0.4,
             "#fde0ef"
            ],
            [
             0.5,
             "#f7f7f7"
            ],
            [
             0.6,
             "#e6f5d0"
            ],
            [
             0.7,
             "#b8e186"
            ],
            [
             0.8,
             "#7fbc41"
            ],
            [
             0.9,
             "#4d9221"
            ],
            [
             1,
             "#276419"
            ]
           ],
           "sequential": [
            [
             0,
             "#0d0887"
            ],
            [
             0.1111111111111111,
             "#46039f"
            ],
            [
             0.2222222222222222,
             "#7201a8"
            ],
            [
             0.3333333333333333,
             "#9c179e"
            ],
            [
             0.4444444444444444,
             "#bd3786"
            ],
            [
             0.5555555555555556,
             "#d8576b"
            ],
            [
             0.6666666666666666,
             "#ed7953"
            ],
            [
             0.7777777777777778,
             "#fb9f3a"
            ],
            [
             0.8888888888888888,
             "#fdca26"
            ],
            [
             1,
             "#f0f921"
            ]
           ],
           "sequentialminus": [
            [
             0,
             "#0d0887"
            ],
            [
             0.1111111111111111,
             "#46039f"
            ],
            [
             0.2222222222222222,
             "#7201a8"
            ],
            [
             0.3333333333333333,
             "#9c179e"
            ],
            [
             0.4444444444444444,
             "#bd3786"
            ],
            [
             0.5555555555555556,
             "#d8576b"
            ],
            [
             0.6666666666666666,
             "#ed7953"
            ],
            [
             0.7777777777777778,
             "#fb9f3a"
            ],
            [
             0.8888888888888888,
             "#fdca26"
            ],
            [
             1,
             "#f0f921"
            ]
           ]
          },
          "colorway": [
           "#636efa",
           "#EF553B",
           "#00cc96",
           "#ab63fa",
           "#FFA15A",
           "#19d3f3",
           "#FF6692",
           "#B6E880",
           "#FF97FF",
           "#FECB52"
          ],
          "font": {
           "color": "#2a3f5f"
          },
          "geo": {
           "bgcolor": "white",
           "lakecolor": "white",
           "landcolor": "#E5ECF6",
           "showlakes": true,
           "showland": true,
           "subunitcolor": "white"
          },
          "hoverlabel": {
           "align": "left"
          },
          "hovermode": "closest",
          "mapbox": {
           "style": "light"
          },
          "paper_bgcolor": "white",
          "plot_bgcolor": "#E5ECF6",
          "polar": {
           "angularaxis": {
            "gridcolor": "white",
            "linecolor": "white",
            "ticks": ""
           },
           "bgcolor": "#E5ECF6",
           "radialaxis": {
            "gridcolor": "white",
            "linecolor": "white",
            "ticks": ""
           }
          },
          "scene": {
           "xaxis": {
            "backgroundcolor": "#E5ECF6",
            "gridcolor": "white",
            "gridwidth": 2,
            "linecolor": "white",
            "showbackground": true,
            "ticks": "",
            "zerolinecolor": "white"
           },
           "yaxis": {
            "backgroundcolor": "#E5ECF6",
            "gridcolor": "white",
            "gridwidth": 2,
            "linecolor": "white",
            "showbackground": true,
            "ticks": "",
            "zerolinecolor": "white"
           },
           "zaxis": {
            "backgroundcolor": "#E5ECF6",
            "gridcolor": "white",
            "gridwidth": 2,
            "linecolor": "white",
            "showbackground": true,
            "ticks": "",
            "zerolinecolor": "white"
           }
          },
          "shapedefaults": {
           "line": {
            "color": "#2a3f5f"
           }
          },
          "ternary": {
           "aaxis": {
            "gridcolor": "white",
            "linecolor": "white",
            "ticks": ""
           },
           "baxis": {
            "gridcolor": "white",
            "linecolor": "white",
            "ticks": ""
           },
           "bgcolor": "#E5ECF6",
           "caxis": {
            "gridcolor": "white",
            "linecolor": "white",
            "ticks": ""
           }
          },
          "title": {
           "x": 0.05
          },
          "xaxis": {
           "automargin": true,
           "gridcolor": "white",
           "linecolor": "white",
           "ticks": "",
           "title": {
            "standoff": 15
           },
           "zerolinecolor": "white",
           "zerolinewidth": 2
          },
          "yaxis": {
           "automargin": true,
           "gridcolor": "white",
           "linecolor": "white",
           "ticks": "",
           "title": {
            "standoff": 15
           },
           "zerolinecolor": "white",
           "zerolinewidth": 2
          }
         }
        },
        "title": {
         "text": "Elapsed Time Comparison"
        },
        "yaxis": {
         "tickmode": "array",
         "ticktext": [
          "Call 1",
          "Call 2",
          "Call 3",
          "Call 4",
          "Call 5",
          "Call 6",
          "Call 7",
          "Call 8",
          "Call 9",
          "Call 10",
          "Call 11",
          "Call 12",
          "Call 13",
          "Call 14",
          "Call 15",
          "Call 16",
          "Call 17",
          "Call 18",
          "Call 19",
          "Call 20",
          "Call 21",
          "Call 22",
          "Call 23",
          "Call 24",
          "Call 25",
          "Call 26",
          "Call 27",
          "Call 28",
          "Call 29",
          "Call 30",
          "Call 31",
          "Call 32",
          "Call 33",
          "Call 34",
          "Call 35",
          "Call 36",
          "Call 37",
          "Call 38",
          "Call 39",
          "Call 40",
          "Call 41",
          "Call 42",
          "Call 43",
          "Call 44",
          "Call 45",
          "Call 46",
          "Call 47",
          "Call 48",
          "Call 49",
          "Call 50",
          "Call 51",
          "Call 52",
          "Call 53",
          "Call 54",
          "Call 55",
          "Call 56",
          "Call 57",
          "Call 58",
          "Call 59",
          "Call 60",
          "Call 61",
          "Call 62",
          "Call 63",
          "Call 64",
          "Call 65",
          "Call 66",
          "Call 67",
          "Call 68",
          "Call 69",
          "Call 70",
          "Call 71",
          "Call 72",
          "Call 73",
          "Call 74",
          "Call 75",
          "Call 76",
          "Call 77",
          "Call 78",
          "Call 79",
          "Call 80",
          "Call 81",
          "Call 82",
          "Call 83",
          "Call 84",
          "Call 85",
          "Call 86",
          "Call 87",
          "Call 88",
          "Call 89",
          "Call 90",
          "Call 91",
          "Call 92",
          "Call 93",
          "Call 94",
          "Call 95",
          "Call 96",
          "Call 97",
          "Call 98",
          "Call 99",
          "Call 100"
         ],
         "tickvals": [
          0,
          1,
          2,
          3,
          4,
          5,
          6,
          7,
          8,
          9,
          10,
          11,
          12,
          13,
          14,
          15,
          16,
          17,
          18,
          19,
          20,
          21,
          22,
          23,
          24,
          25,
          26,
          27,
          28,
          29,
          30,
          31,
          32,
          33,
          34,
          35,
          36,
          37,
          38,
          39,
          40,
          41,
          42,
          43,
          44,
          45,
          46,
          47,
          48,
          49,
          50,
          51,
          52,
          53,
          54,
          55,
          56,
          57,
          58,
          59,
          60,
          61,
          62,
          63,
          64,
          65,
          66,
          67,
          68,
          69,
          70,
          71,
          72,
          73,
          74,
          75,
          76,
          77,
          78,
          79,
          80,
          81,
          82,
          83,
          84,
          85,
          86,
          87,
          88,
          89,
          90,
          91,
          92,
          93,
          94,
          95,
          96,
          97,
          98,
          99
         ],
         "title": {
          "text": "Elapsed Time (nanoseconds)"
         }
        }
       }
      }
     },
     "metadata": {},
     "output_type": "display_data"
    }
   ],
   "source": [
    "fig = go.Figure()\n",
    "y_labels = [f\"Call {i+1}\" for i in range(pairs_count)]\n",
    "fig.add_trace(\n",
    "    go.Scatter(\n",
    "        y=naive_times,\n",
    "        mode=\"lines+markers\",\n",
    "        name=\"Naive Multiplication\",\n",
    "        line=dict(color=\"blue\"),\n",
    "    )\n",
    ")\n",
    "fig.add_trace(\n",
    "    go.Scatter(\n",
    "        y=karatsuba_times,\n",
    "        mode=\"lines+markers\",\n",
    "        name=\"Karatsuba Multiplication\",\n",
    "        line=dict(color=\"red\"),\n",
    "    )\n",
    ")\n",
    "fig.update_layout(\n",
    "    title=\"Elapsed Time Comparison\",\n",
    "    yaxis_title=\"Elapsed Time (nanoseconds)\",\n",
    "    yaxis_tickmode=\"array\",\n",
    "    yaxis_tickvals=list(range(len(y_labels))),\n",
    "    yaxis_ticktext=y_labels,\n",
    "    showlegend=True,\n",
    ")\n",
    "fig.show()"
   ]
  }
 ],
 "metadata": {
  "kernelspec": {
   "display_name": "venv",
   "language": "python",
   "name": "python3"
  },
  "language_info": {
   "codemirror_mode": {
    "name": "ipython",
    "version": 3
   },
   "file_extension": ".py",
   "mimetype": "text/x-python",
   "name": "python",
   "nbconvert_exporter": "python",
   "pygments_lexer": "ipython3",
   "version": "3.12.6"
  }
 },
 "nbformat": 4,
 "nbformat_minor": 2
}
